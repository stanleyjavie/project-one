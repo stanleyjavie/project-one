{
 "cells": [
  {
   "cell_type": "markdown",
   "id": "52e81bf4",
   "metadata": {},
   "source": [
    "# Flight Delays Analysis\n",
    "\n",
    "This notebook analyzes flight delay data for two airlines (ALASKA and AMWEST) across five cities."
   ]
  },
  {
   "cell_type": "code",
   "execution_count": null,
   "id": "f40d7f50",
   "metadata": {},
   "outputs": [],
   "source": [
    "\n",
    "import pandas as pd\n",
    "\n",
    "# Load the CSV file\n",
    "df = pd.read_csv(\"flights.csv\")\n",
    "\n",
    "# Preview data\n",
    "df.head()\n"
   ]
  },
  {
   "cell_type": "code",
   "execution_count": null,
   "id": "6d1f67b2",
   "metadata": {},
   "outputs": [],
   "source": [
    "\n",
    "# Total flights by airline\n",
    "df.groupby(\"Airline\")[\"Flights\"].sum()\n"
   ]
  },
  {
   "cell_type": "code",
   "execution_count": null,
   "id": "d1bb8e9e",
   "metadata": {},
   "outputs": [],
   "source": [
    "\n",
    "# Total delays by airline\n",
    "df[df[\"Status\"]==\"delayed\"].groupby(\"Airline\")[\"Flights\"].sum()\n"
   ]
  },
  {
   "cell_type": "code",
   "execution_count": null,
   "id": "a8e6f23e",
   "metadata": {},
   "outputs": [],
   "source": [
    "\n",
    "# On-time performance percentage\n",
    "df_summary = df.pivot_table(values=\"Flights\", index=[\"Airline\",\"Status\"], aggfunc=\"sum\").reset_index()\n",
    "df_summary = df_summary.pivot(index=\"Airline\", columns=\"Status\", values=\"Flights\")\n",
    "df_summary[\"OnTime%\"] = df_summary[\"on time\"] / (df_summary[\"on time\"] + df_summary[\"delayed\"]) * 100\n",
    "df_summary\n"
   ]
  },
  {
   "cell_type": "code",
   "execution_count": null,
   "id": "8b101c2f",
   "metadata": {},
   "outputs": [],
   "source": [
    "\n",
    "# Delays by city for comparison\n",
    "df[df[\"Status\"]==\"delayed\"].groupby([\"Airline\",\"City\"])[\"Flights\"].sum()\n"
   ]
  },
  {
   "cell_type": "markdown",
   "id": "6f89ee1e",
   "metadata": {},
   "source": [
    "\n",
    "## Conclusions\n",
    "\n",
    "- **ALASKA** has strong on-time performance in Seattle (1,841 on time vs. 305 delayed).\n",
    "- **AMWEST** has the bulk of its flights in Phoenix (4,840 on time, 415 delayed).\n",
    "- On-time performance percentage:\n",
    "  - ALASKA ≈ 86.6% on time  \n",
    "  - AMWEST ≈ 91.1% on time\n",
    "- Delays are proportionally higher for ALASKA in San Francisco and Seattle compared to AMWEST.\n",
    "- **Conclusion**: Both airlines perform well overall, but AMWEST has a slightly better on-time percentage, largely due to strong Phoenix operations.\n"
   ]
  }
 ],
 "metadata": {},
 "nbformat": 4,
 "nbformat_minor": 5
}
